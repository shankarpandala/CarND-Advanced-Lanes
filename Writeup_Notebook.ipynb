{
 "cells": [
  {
   "cell_type": "markdown",
   "metadata": {},
   "source": [
    "In this project, Goal is to write a software pipeline to identify the lane boundaries in a video, and create a detailed writeup of the project. This project is a part of udacity's [Self Driving Car Nanodegree](https://in.udacity.com/course/self-driving-car-engineer-nanodegree--nd013)\n"
   ]
  },
  {
   "cell_type": "markdown",
   "metadata": {},
   "source": [
    "# **Advanced Lane Finding Project**\n",
    "### **Author : Shankar Rao Pandala** \n",
    "\n",
    "The goals / steps of this project are the following:\n",
    "\n",
    "- Compute the camera calibration matrix and distortion coefficients given a set of chessboard images.\n",
    "- Apply a distortion correction to raw images.\n",
    "- Use color transforms, gradients, etc., to create a thresholded binary image.\n",
    "- Apply a perspective transform to rectify binary image (\"birds-eye view\").\n",
    "- Detect lane pixels and fit to find the lane boundary.\n",
    "- Determine the curvature of the lane and vehicle position with respect to center.\n",
    "- Warp the detected lane boundaries back onto the original image.\n",
    "- Output visual display of the lane boundaries and numerical estimation of lane curvature and vehicle position."
   ]
  },
  {
   "cell_type": "markdown",
   "metadata": {},
   "source": [
    "# Camera Calibration\n",
    "\n",
    "\n",
    "Camera calibration is the process of estimating parameters of the camera using images of a special calibration pattern. The parameters include camera intrinsics, distortion coefficients, and camera extrinsics. This information is then used to remove distortions caused by that camera. \n",
    "We use two lists ```objpoints```, which contains the rbitrary points on a real-world objects and ```imgpoints``` contains the coordinates of the same points in camera images of the object. In this project, we use chessboard calibration images provided by Udacity in the directory ```camera_cal```. Object points were generated with 9 internal corners in the horizontal direction and 6 in the vertical direction in every image and corresponding image points were obtained by calling ```cv2.findChessboardCorners()``` and then both object points and image points are passed to ```cv2.calibrateCamera()``` to calibrate the camera.\n",
    "\n",
    "```\n",
    "def camera_calibration(images, nx, ny, show=False):\n",
    "    # prepare object points, like (0,0,0), (1,0,0), (2,0,0) ....,(6,4,0),(6,5,0),...\n",
    "    objp = np.zeros((nx*ny,3), np.float32)\n",
    "    objp[:,:2] = np.mgrid[0:nx,0:ny].T.reshape(-1,2)\n",
    "\n",
    "    # Make a list of calibration images\n",
    "    images = glob.glob(images)\n",
    "\n",
    "    # Step through the list and search for chessboard corners\n",
    "    for image in tqdm(images):\n",
    "        \n",
    "        img = cv2.imread(image)\n",
    "        corner_img = np.copy(img)\n",
    "    \n",
    "        gray = cv2.cvtColor(img,cv2.COLOR_BGR2GRAY)\n",
    "    \n",
    "        # Find the chessboard corners\n",
    "        ret, corners = cv2.findChessboardCorners(gray, (nx,ny),None)\n",
    "    \n",
    "        # If found, add object points, image points\n",
    "        if ret == True:\n",
    "            objpoints.append(objp)\n",
    "            imgpoints.append(corners)\n",
    "\n",
    "            if show:\n",
    "                # Draw and display the corners\n",
    "                cv2.drawChessboardCorners(corner_img, (nx,ny), corners, ret)\n",
    "                f, (ax1, ax2) = plt.subplots(1, 2, figsize=(10,5))\n",
    "                ax1.imshow(cv2.cvtColor(img, cv2.COLOR_BGR2RGB))\n",
    "                ax1.set_title('Original Image')\n",
    "                ax2.imshow(cv2.cvtColor(corner_img, cv2.COLOR_BGR2RGB))\n",
    "                ax2.set_title('Image With Corners')\n",
    "        ret, mtx, dist, rvecs, tvecs = cv2.calibrateCamera(objpoints, imgpoints, gray.shape[::-1], None, None)\n",
    "    return mtx, dist``` "
   ]
  },
  {
   "cell_type": "markdown",
   "metadata": {},
   "source": [
    "## Distortion Correction\n",
    "\n",
    "distortion correction to the test image using the cv2.undistort() function and obtained this result:"
   ]
  },
  {
   "cell_type": "markdown",
   "metadata": {},
   "source": [
    "<tr>\n",
    "    <td> <h2 align='center'>Original Image</h2> </td>\n",
    "    <td> <h2 align='center'>Undistorted Image</h2> </td>\n",
    "    </tr>\n",
    "<tr>\n",
    "    <td> <img src=\"camera_cal/calibration1.jpg\"> </td>\n",
    "    <td> <img src=\"undist_calibration.jpg\"> </td>\n",
    "    </tr>\n"
   ]
  },
  {
   "cell_type": "markdown",
   "metadata": {},
   "source": [
    "# Pipeline"
   ]
  },
  {
   "cell_type": "markdown",
   "metadata": {},
   "source": [
    "## Distortion Correction for test Images"
   ]
  },
  {
   "cell_type": "markdown",
   "metadata": {},
   "source": [
    "Similar to undistort with the chessboard image, I have undistorted the test images using ```cv2.undistort()```\n",
    "Here is an example of orginal and undistorted image:"
   ]
  },
  {
   "cell_type": "markdown",
   "metadata": {},
   "source": [
    "<tr>\n",
    "    <td> <h2 align='center'>Original Image</h2> </td>\n",
    "    <td> <h2 align='center'>Undistorted Image</h2> </td>\n",
    "    </tr>\n",
    "<tr>\n",
    "    <td> <img src=\"test_images/straight_lines1.jpg\"> </td>\n",
    "    <td> <img src=\"output_images/test_images/straight_lines1.jpg\"> </td>\n",
    "    </tr>\n"
   ]
  },
  {
   "cell_type": "markdown",
   "metadata": {},
   "source": [
    "## color transforms, gradients or other methods to create a thresholded binary image"
   ]
  },
  {
   "cell_type": "markdown",
   "metadata": {},
   "source": [
    "RGB space do not correspond well to perceived differences in color. That is, two colors can be close in RGB space but appear very different to humans and vice versa. This is the reason we use non-RGB colorspaces, including LUV, in computer vision.\n",
    "\n",
    "As a part of LUV color space, A combination of B & L channel for creating a thresholded binary image.\n",
    "\n",
    "The B channel from the Lab color space, with a min threshold of 140 and an upper threshold of 200, did a better job than the S channel in identifying the yellow lines, but completely ignored the white lines.\n",
    "\n",
    "The L Channel from the LUV color space, with a min threshold of 200 and a max threshold of 255, did an almost perfect job of picking up the white lane lines, but completely ignored the yellow lines.\n"
   ]
  },
  {
   "cell_type": "markdown",
   "metadata": {},
   "source": [
    "<tr>\n",
    "    <td> <h2 align='center'>Original Image</h2> </td>\n",
    "    <td> <h2 align='center'>B Channel</h2> </td>\n",
    "    <td> <h2 align='center'>L Channel</h2> </td>\n",
    "    <td> <h2 align='center'>Binary Image</h2> </td>\n",
    "    </tr>\n",
    "<tr>\n",
    "    <td> <img src=\"test_images/straight_lines1.jpg\"> </td>\n",
    "    <td> <img src=\"output_images/Color_transforms/b_ch_straight_lines1.jpg\"> </td>\n",
    "    <td> <img src=\"output_images/Color_transforms/l_ch_straight_lines1.jpg\"> </td>\n",
    "    <td> <img src=\"output_images/Color_transforms/thresh_straight_lines1.jpg\"> </td>\n",
    "    </tr>\n"
   ]
  },
  {
   "cell_type": "markdown",
   "metadata": {},
   "source": [
    "## Perspective transform"
   ]
  },
  {
   "cell_type": "markdown",
   "metadata": {},
   "source": [
    "When human eyes see near things they look bigger as compare to those who are far away. This is called perspective in a general way. Whereas transformation is the transfer of an object e.t.c from one state to another.\n",
    "\n",
    "So overall, the perspective transformation deals with the conversion of 3d world into 2d image. The same principle on which human vision works and the same principle on which the camera works\n",
    "\n",
    "Code is provided in the Project P2- Advanced Lane Detection ipython Notebook submitted as part of the project\n",
    "Below is the sample of original Image and Prespective transformed Image"
   ]
  },
  {
   "cell_type": "markdown",
   "metadata": {},
   "source": [
    "<tr>\n",
    "    <td> <h2 align='center'>Original Image</h2> </td>\n",
    "    <td> <h2 align='center'>Perspective transformed Image</h2> </td>\n",
    "    </tr>\n",
    "<tr>\n",
    "    <td> <img src=\"test_images/straight_lines1.jpg\"> </td>\n",
    "    <td> <img src=\"output_images/persp_transform/straight_lines1.jpg\"> </td>\n",
    "    </tr>"
   ]
  },
  {
   "cell_type": "markdown",
   "metadata": {},
   "source": [
    "## Identify lane-line pixels and fit their positions with a polynomial"
   ]
  },
  {
   "cell_type": "markdown",
   "metadata": {},
   "source": [
    "After perspective transformation lanes are indetified using functions ```find_window_centroids``` and ```draw_centroids```\n",
    "\n",
    "If no informtion about lane pixels in the previous frame is passed to this function it uses a histogram of bright pixel counts to identify the bases of the lanes in the lower half of the binary mask, followed by sliding window search to identify the rest of the lanes.\n",
    "\n",
    "On the other hand if poynomials describing the position of the lanes in the previous frame are passed to this function, it searches only in a narrow region around the previous lanes. The image below shows how lane search is performed in the former case.\n",
    "\n",
    "Below is an example of image with fitted lane line:"
   ]
  },
  {
   "cell_type": "markdown",
   "metadata": {},
   "source": [
    "<tr>\n",
    "    <td> <h2 align='center'>Perspective transformed Image</h2> </td>\n",
    "    <td> <h2 align='center'>poly fit Image</h2> </td>\n",
    "    </tr>\n",
    "<tr>\n",
    "    <td> <img src=\"output_images/persp_transform/straight_lines2.jpg\"> </td>\n",
    "    <td> <img src=\"output_images/detect_lanes/straight_lines2.jpg\"> </td>\n",
    "    </tr>"
   ]
  },
  {
   "cell_type": "markdown",
   "metadata": {},
   "source": [
    "## Calculate the radius of curvature of the lane "
   ]
  },
  {
   "cell_type": "markdown",
   "metadata": {},
   "source": [
    "```np.polyfit``` is used to calclulate the curvature of the lane lines in the images.\n",
    "The same has been provided in the Project P2- Advanced Lane Detection ipython Notebook submitted as part of the project."
   ]
  },
  {
   "cell_type": "markdown",
   "metadata": {},
   "source": [
    "## example image of result plotted back down onto the road such that the lane area is identified clearly"
   ]
  },
  {
   "cell_type": "markdown",
   "metadata": {},
   "source": [
    "<tr>\n",
    "    <td> <h2 align='center'>Original Image</h2> </td>\n",
    "    <td> <h2 align='center'>Lane Identified</h2> </td>\n",
    "    </tr>\n",
    "<tr>\n",
    "    <td> <img src=\"test_images/straight_lines1.jpg\"> </td>\n",
    "    <td> <img src=\"output_images/lanes/straight_lines1.jpg\"> </td>\n",
    "    </tr>"
   ]
  },
  {
   "cell_type": "markdown",
   "metadata": {},
   "source": [
    "## Final video output"
   ]
  },
  {
   "cell_type": "code",
   "execution_count": 9,
   "metadata": {},
   "outputs": [
    {
     "data": {
      "text/html": [
       "\n",
       "        <video width=\"960\" height=\"540\" controls>\n",
       "        <source src=\"project_video_output.mp4\">\n",
       "        </video>\n",
       "    "
      ],
      "text/plain": [
       "<IPython.core.display.HTML object>"
      ]
     },
     "execution_count": 9,
     "metadata": {},
     "output_type": "execute_result"
    }
   ],
   "source": [
    "from IPython.display import HTML\n",
    "HTML(\"\"\"\n",
    "        <video width=\"960\" height=\"540\" controls>\n",
    "        <source src=\"{0}\">\n",
    "        </video>\n",
    "    \"\"\".format('project_video_output.mp4'))"
   ]
  },
  {
   "cell_type": "code",
   "execution_count": null,
   "metadata": {},
   "outputs": [],
   "source": []
  }
 ],
 "metadata": {
  "kernelspec": {
   "display_name": "Python 3",
   "language": "python",
   "name": "python3"
  },
  "language_info": {
   "codemirror_mode": {
    "name": "ipython",
    "version": 3
   },
   "file_extension": ".py",
   "mimetype": "text/x-python",
   "name": "python",
   "nbconvert_exporter": "python",
   "pygments_lexer": "ipython3",
   "version": "3.6.3"
  }
 },
 "nbformat": 4,
 "nbformat_minor": 2
}
